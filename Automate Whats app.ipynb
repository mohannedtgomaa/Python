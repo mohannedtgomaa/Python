{
 "cells": [
  {
   "cell_type": "code",
   "execution_count": 1,
   "metadata": {},
   "outputs": [
    {
     "name": "stdout",
     "output_type": "stream",
     "text": [
      "Collecting selenium\n",
      "  Downloading https://files.pythonhosted.org/packages/80/d6/4294f0b4bce4de0abf13e17190289f9d0613b0a44e5dd6a7f5ca98459853/selenium-3.141.0-py2.py3-none-any.whl (904kB)\n",
      "Requirement already satisfied: urllib3 in c:\\programdata\\anaconda3\\lib\\site-packages (from selenium) (1.24.2)\n",
      "Installing collected packages: selenium\n",
      "Successfully installed selenium-3.141.0\n",
      "Note: you may need to restart the kernel to use updated packages.\n"
     ]
    }
   ],
   "source": [
    "pip install selenium"
   ]
  },
  {
   "cell_type": "code",
   "execution_count": 1,
   "metadata": {},
   "outputs": [],
   "source": [
    "from selenium import webdriver\n",
    "driver_path = 'D:/DS Portfolio/Python/Automate Whatsapp/chromedriver'\n",
    "driver = webdriver.Chrome(executable_path=driver_path)\n",
    "driver.get(\"https://web.whatsapp.com/\")\n",
    "\n",
    "#headlines = driver.find_elements_by_class_name(\"story-heading\")\n",
    "#for headline in headlines:\n",
    "    #print(headline.text.strip())"
   ]
  },
  {
   "cell_type": "code",
   "execution_count": 33,
   "metadata": {},
   "outputs": [
    {
     "data": {
      "text/plain": [
       "'\\'\\nfrom selenium import webdriver\\ndriver_path = \\'D:/DS Portfolio/Python/Automate Whatsapp/chromedriver\\'\\ndriver = webdriver.Chrome(executable_path=driver_path)\\ndriver.get(\"https://web.whatsapp.com/\")\\n\\nnames = \\'Mohanned Dubai\\'\\nmsg = input(\\'Enter your Message\\')\\ncount = int(input(\\'Enter the numbe rof times you want to send the msg\\'))\\n\\ninput(\\'Enter anything after the Scanning the QR Code\\')\\n\\n#driver.\\nfor name in names: #for loop to itrate through a predefined list of list of names \\n    user = driver.find_element\\n    driver.find_element_by_xpath(\\'//span[@title = \"{}\"]\\'.format(names))\\n    \\n    user.click\\n    msg_box = driver.find_elements_by_class_name(\\'_3F6QL _2WovP\\')\\n\\n    for i in range(count):\\n        msg_box.send_keyss(msg)\\n        button= driver.find_element_by_class_name(\\'weEq5\\')\\n        button.click()\\n'"
      ]
     },
     "execution_count": 33,
     "metadata": {},
     "output_type": "execute_result"
    }
   ],
   "source": [
    "\n",
    "####\n",
    "''''\n",
    "from selenium import webdriver\n",
    "driver_path = 'D:/DS Portfolio/Python/Automate Whatsapp/chromedriver'\n",
    "driver = webdriver.Chrome(executable_path=driver_path)\n",
    "driver.get(\"https://web.whatsapp.com/\")\n",
    "\n",
    "names = 'Mohanned Dubai'\n",
    "msg = input('Enter your Message')\n",
    "count = int(input('Enter the numbe rof times you want to send the msg'))\n",
    "\n",
    "input('Enter anything after the Scanning the QR Code')\n",
    "\n",
    "#driver.\n",
    "for name in names: #for loop to itrate through a predefined list of list of names \n",
    "    user = driver.find_element\n",
    "    driver.find_element_by_xpath('//span[@title = \"{}\"]'.format(names))\n",
    "    \n",
    "    user.click\n",
    "    msg_box = driver.find_elements_by_class_name('_3F6QL _2WovP')\n",
    "\n",
    "    for i in range(count):\n",
    "        msg_box.send_keyss(msg)\n",
    "        button= driver.find_element_by_class_name('weEq5')\n",
    "        button.click()\n",
    "'''"
   ]
  },
  {
   "cell_type": "code",
   "execution_count": 1,
   "metadata": {},
   "outputs": [],
   "source": [
    "weEq5"
   ]
  },
  {
   "cell_type": "code",
   "execution_count": null,
   "metadata": {},
   "outputs": [],
   "source": [
    "\n",
    "from selenium import webdriver\n",
    "from selenium.webdriver.common.keys import Keys\n",
    "\n",
    "\n",
    "driver_path = 'D:/DS Portfolio/Python/Automate Whatsapp/chromedriver'\n",
    "driver = webdriver.Chrome(executable_path=driver_path)\n",
    "driver.get(\"https://web.whatsapp.com/\")\n",
    "\n",
    "names = input('Name : ')\n",
    "msg = input('Enter your Message : ')\n",
    "count = int(input('Enter the numbe rof times you want to send the msg : '))\n",
    "\n",
    "input('Enter anything after the Scanning the QR Code')\n",
    "\n",
    "\n",
    "user = driver.find_element_by_xpath('//span[@title = \"{}\"]'.format(names))\n",
    "user.click\n",
    "msg_box = driver.find_element_by_class_name('_2FbwG') #driver.find_element_by_link_text('Type a message') #\n",
    "\n",
    "#msg_box = driver.find_element_by_xpath('/[@id=\"main\"]/footer/div/div[2]/div[1]/div[2]')\n",
    "\n",
    "for i in range(count):\n",
    "    print('checker')\n",
    "    msg_box.send_keysd_keys(msg)\n",
    "    \n",
    "    print('checker')\n",
    "    button = driver.find_element_by_class_name('_1U1xa')\n",
    "    print('checker')\n",
    "    button.click()\n",
    "    \n"
   ]
  },
  {
   "cell_type": "code",
   "execution_count": null,
   "metadata": {},
   "outputs": [],
   "source": [
    "type(msg_box)"
   ]
  },
  {
   "cell_type": "code",
   "execution_count": null,
   "metadata": {},
   "outputs": [],
   "source": []
  }
 ],
 "metadata": {
  "kernelspec": {
   "display_name": "Python 3",
   "language": "python",
   "name": "python3"
  },
  "language_info": {
   "codemirror_mode": {
    "name": "ipython",
    "version": 3
   },
   "file_extension": ".py",
   "mimetype": "text/x-python",
   "name": "python",
   "nbconvert_exporter": "python",
   "pygments_lexer": "ipython3",
   "version": "3.7.4"
  }
 },
 "nbformat": 4,
 "nbformat_minor": 2
}
